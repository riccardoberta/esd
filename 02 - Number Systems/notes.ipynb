{
 "cells": [
  {
   "cell_type": "markdown",
   "metadata": {},
   "source": [
    "## Two's Complement\n",
    "\n",
    "Two's complement is a way to represent negative numbers in binary. It allows to perform addition and subtraction operations on both positive and negative numbers using the same binary arithmetic rules. Here’s the procedure to find the two’s complement of a number:\n",
    "\n",
    "1. **Write the positive binary version of the number**: For example, if the number is \\(5\\), in binary (with 8 bits) it’s `00000101`.\n",
    "2. **Invert all the bits** (flip 0s to 1s and 1s to 0s): For `00000101`, you get `11111010`.\n",
    "3. **Add 1** to the result: `11111010 + 1` equals `11111011`.\n",
    "\n",
    "The final result, `11111011`, is the two’s complement representation of \\(-5\\).\n",
    "\n",
    "### But Why Does This Work?\n",
    "\n",
    "The magic behind two's complement lies in how binary arithmetic works under **modulo \\(2^n\\)**, where \\(n\\) is the number of bits (e.g., 8 bits gives \\(2^8 = 256\\) possible values). The idea is to use this \"wraparound\" behavior to represent negative numbers.\n",
    "\n",
    "#### Key Insights:\n",
    "- **Binary wraparound (modulo \\(2^n\\))**: Think of it like an odometer. When you reach the maximum number you can represent with \\(n\\) bits, the next number \"wraps around\" to 0. For example, with 8 bits, if you go past `11111111` (which is 255), you return to `00000000`.\n",
    "- In two's complement, the leftmost bit (the **sign bit**) indicates whether the number is positive (0) or negative (1).\n",
    "  \n",
    "#### Why Does Inverting and Adding 1 Work?\n",
    "By flipping the bits and adding 1, you're essentially \"measuring\" the distance between the positive number and \\(2^n\\), making it behave like a negative number. It works because you’re shifting the number into the negative half of the binary range. \n",
    "\n",
    "Let's break down the reasoning:\n",
    "\n",
    "- The **inversion** flips every bit, turning the positive number into what looks like a \"mirror image\" of a large number.\n",
    "- Adding 1 adjusts it just enough to create a meaningful negative equivalent.\n",
    "\n",
    "For instance:\n",
    "- **5 in binary**: `00000101`\n",
    "- **Inverted**: `11111010` (This is one less than \\(-5\\) due to the inversion.)\n",
    "- **Adding 1** gives you: `11111011`, which is \\(-5\\).\n",
    "\n",
    "### Example of Why It Works in Arithmetic:\n",
    "\n",
    "Let’s see if adding a number to its two’s complement (i.e., adding 5 to -5) gives us 0:"
   ]
  },
  {
   "cell_type": "code",
   "execution_count": null,
   "metadata": {
    "vscode": {
     "languageId": "plaintext"
    }
   },
   "outputs": [],
   "source": [
    " 00000101   (5)\n",
    "+ 11111011   (-5)\n",
    "-----------\n",
    "  100000000  (which is 9 bits, but we ignore the overflow)"
   ]
  },
  {
   "cell_type": "markdown",
   "metadata": {},
   "source": [
    "\n",
    "If you ignore the overflow (since we are using 8 bits), you’re left with `00000000`, which is 0! This proves that the two’s complement representation correctly performs arithmetic. In summary, two’s complement works because it exploits the binary system’s wraparound behavior. By inverting the bits and adding 1, you create a negative version of a number that still behaves correctly in binary arithmetic. This makes operations like addition, subtraction, and even multiplication possible without needing special rules for negative numbers."
   ]
  }
 ],
 "metadata": {
  "kernelspec": {
   "display_name": "machine-learning",
   "language": "python",
   "name": "python3"
  },
  "language_info": {
   "codemirror_mode": {
    "name": "ipython",
    "version": 3
   },
   "file_extension": ".py",
   "mimetype": "text/x-python",
   "name": "python",
   "nbconvert_exporter": "python",
   "pygments_lexer": "ipython3",
   "version": "3.12.3"
  },
  "nav_menu": {
   "height": "279px",
   "width": "309px"
  },
  "toc": {
   "nav_menu": {},
   "number_sections": true,
   "sideBar": true,
   "skip_h1_title": false,
   "toc_cell": false,
   "toc_position": {},
   "toc_section_display": "block",
   "toc_window_display": false
  }
 },
 "nbformat": 4,
 "nbformat_minor": 4
}
